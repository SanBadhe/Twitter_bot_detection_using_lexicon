{
 "cells": [
  {
   "cell_type": "markdown",
   "metadata": {},
   "source": [
    "We already have done data downloading and feature engineering in previous notebook. We are building final model in this notebook."
   ]
  },
  {
   "cell_type": "code",
   "execution_count": 1,
   "metadata": {},
   "outputs": [
    {
     "name": "stderr",
     "output_type": "stream",
     "text": [
      "/usr/local/lib/python3.6/importlib/_bootstrap.py:219: RuntimeWarning: numpy.dtype size changed, may indicate binary incompatibility. Expected 96, got 88\n",
      "  return f(*args, **kwds)\n",
      "/usr/local/lib/python3.6/importlib/_bootstrap.py:219: RuntimeWarning: numpy.dtype size changed, may indicate binary incompatibility. Expected 96, got 88\n",
      "  return f(*args, **kwds)\n",
      "/usr/local/lib/python3.6/site-packages/sklearn/ensemble/weight_boosting.py:29: DeprecationWarning: numpy.core.umath_tests is an internal NumPy module and should not be imported. It will be removed in a future NumPy release.\n",
      "  from numpy.core.umath_tests import inner1d\n"
     ]
    }
   ],
   "source": [
    "#importing all required libraries\n",
    "import glob\n",
    "import string\n",
    "import ast\n",
    "import json\n",
    "import time\n",
    "\n",
    "from datetime import date\n",
    "from dateutil import parser\n",
    "import datetime as dt\n",
    "\n",
    "# pandas\n",
    "import pandas as pd\n",
    "from pandas import Series,DataFrame\n",
    "\n",
    "# numpy, matplotlib, seaborn\n",
    "import numpy as np\n",
    "from scipy import interp\n",
    "from scipy import stats\n",
    "from itertools import cycle\n",
    "import matplotlib.pyplot as plt\n",
    "import seaborn as sns\n",
    "sns.set_style('whitegrid')\n",
    "%matplotlib inline\n",
    "\n",
    "import warnings\n",
    "warnings.filterwarnings('ignore')\n",
    "\n",
    "from collections import OrderedDict, defaultdict, Counter\n",
    "from nltk.tokenize import TweetTokenizer\n",
    "\n",
    "# Imports\n",
    "\n",
    "import glob\n",
    "import string\n",
    "import ast\n",
    "\n",
    "# pandas\n",
    "import pandas as pd\n",
    "from pandas import Series,DataFrame\n",
    "\n",
    "# numpy, matplotlib, seaborn\n",
    "import numpy as np\n",
    "from scipy import interp\n",
    "from itertools import cycle\n",
    "import matplotlib.pyplot as plt\n",
    "import seaborn as sns\n",
    "sns.set_style('whitegrid')\n",
    "%matplotlib inline\n",
    "\n",
    "# machine learning\n",
    "from sklearn.linear_model import LogisticRegression\n",
    "from sklearn.ensemble import RandomForestClassifier\n",
    "from sklearn.feature_selection import RFECV\n",
    "from sklearn.tree import DecisionTreeClassifier, export_graphviz \n",
    "from sklearn.ensemble import ExtraTreesClassifier\n",
    "\n",
    "#metrics\n",
    "from sklearn.model_selection import StratifiedKFold\n",
    "from sklearn.model_selection import train_test_split\n",
    "from sklearn.metrics import make_scorer, accuracy_score, confusion_matrix, f1_score, roc_curve, auc\n",
    "from sklearn.metrics import precision_recall_fscore_support, classification_report\n",
    "from sklearn.model_selection import GridSearchCV, cross_val_score\n",
    "from sklearn.metrics import roc_curve, auc"
   ]
  },
  {
   "cell_type": "markdown",
   "metadata": {},
   "source": [
    "We are importing final processed data. we created this data after feature engineering in previous notebook and saved in CSV file"
   ]
  },
  {
   "cell_type": "code",
   "execution_count": 2,
   "metadata": {},
   "outputs": [
    {
     "data": {
      "text/html": [
       "<div>\n",
       "<style scoped>\n",
       "    .dataframe tbody tr th:only-of-type {\n",
       "        vertical-align: middle;\n",
       "    }\n",
       "\n",
       "    .dataframe tbody tr th {\n",
       "        vertical-align: top;\n",
       "    }\n",
       "\n",
       "    .dataframe thead th {\n",
       "        text-align: right;\n",
       "    }\n",
       "</style>\n",
       "<table border=\"1\" class=\"dataframe\">\n",
       "  <thead>\n",
       "    <tr style=\"text-align: right;\">\n",
       "      <th></th>\n",
       "      <th>followers_count</th>\n",
       "      <th>friends_count</th>\n",
       "      <th>listedcount</th>\n",
       "      <th>favourites_count</th>\n",
       "      <th>verified</th>\n",
       "      <th>statuses_count</th>\n",
       "      <th>default_profile</th>\n",
       "      <th>default_profile_image</th>\n",
       "      <th>has_extended_profile</th>\n",
       "      <th>name</th>\n",
       "      <th>...</th>\n",
       "      <th>avg_disgust</th>\n",
       "      <th>avg_fear</th>\n",
       "      <th>avg_joy</th>\n",
       "      <th>avg_negative</th>\n",
       "      <th>avg_positive</th>\n",
       "      <th>avg_sadness</th>\n",
       "      <th>avg_surprise</th>\n",
       "      <th>avg_trust</th>\n",
       "      <th>avg_negative_emoticon</th>\n",
       "      <th>avg_positive_emoticon</th>\n",
       "    </tr>\n",
       "    <tr>\n",
       "      <th>id</th>\n",
       "      <th></th>\n",
       "      <th></th>\n",
       "      <th></th>\n",
       "      <th></th>\n",
       "      <th></th>\n",
       "      <th></th>\n",
       "      <th></th>\n",
       "      <th></th>\n",
       "      <th></th>\n",
       "      <th></th>\n",
       "      <th></th>\n",
       "      <th></th>\n",
       "      <th></th>\n",
       "      <th></th>\n",
       "      <th></th>\n",
       "      <th></th>\n",
       "      <th></th>\n",
       "      <th></th>\n",
       "      <th></th>\n",
       "      <th></th>\n",
       "      <th></th>\n",
       "    </tr>\n",
       "  </thead>\n",
       "  <tbody>\n",
       "    <tr>\n",
       "      <th>614</th>\n",
       "      <td>1717</td>\n",
       "      <td>2201</td>\n",
       "      <td>52</td>\n",
       "      <td>4634</td>\n",
       "      <td>0</td>\n",
       "      <td>14159</td>\n",
       "      <td>0</td>\n",
       "      <td>0</td>\n",
       "      <td>0</td>\n",
       "      <td>b'Christian Harrison'</td>\n",
       "      <td>...</td>\n",
       "      <td>0.129654</td>\n",
       "      <td>0.267620</td>\n",
       "      <td>0.331117</td>\n",
       "      <td>0.431848</td>\n",
       "      <td>0.788231</td>\n",
       "      <td>0.217088</td>\n",
       "      <td>0.209774</td>\n",
       "      <td>0.534907</td>\n",
       "      <td>0.000000</td>\n",
       "      <td>0.000332</td>\n",
       "    </tr>\n",
       "    <tr>\n",
       "      <th>1038</th>\n",
       "      <td>1426</td>\n",
       "      <td>1014</td>\n",
       "      <td>78</td>\n",
       "      <td>4272</td>\n",
       "      <td>0</td>\n",
       "      <td>33028</td>\n",
       "      <td>0</td>\n",
       "      <td>0</td>\n",
       "      <td>0</td>\n",
       "      <td>b'Martijn van Es'</td>\n",
       "      <td>...</td>\n",
       "      <td>0.091451</td>\n",
       "      <td>0.163022</td>\n",
       "      <td>0.168986</td>\n",
       "      <td>0.276342</td>\n",
       "      <td>0.405567</td>\n",
       "      <td>0.129225</td>\n",
       "      <td>0.121272</td>\n",
       "      <td>0.246521</td>\n",
       "      <td>0.000000</td>\n",
       "      <td>0.005964</td>\n",
       "    </tr>\n",
       "    <tr>\n",
       "      <th>1437</th>\n",
       "      <td>307</td>\n",
       "      <td>204</td>\n",
       "      <td>8</td>\n",
       "      <td>359</td>\n",
       "      <td>0</td>\n",
       "      <td>3140</td>\n",
       "      <td>0</td>\n",
       "      <td>0</td>\n",
       "      <td>0</td>\n",
       "      <td>b'Ryan Kneer'</td>\n",
       "      <td>...</td>\n",
       "      <td>0.176471</td>\n",
       "      <td>0.217779</td>\n",
       "      <td>0.354263</td>\n",
       "      <td>0.420026</td>\n",
       "      <td>0.638136</td>\n",
       "      <td>0.194646</td>\n",
       "      <td>0.203900</td>\n",
       "      <td>0.379379</td>\n",
       "      <td>0.000000</td>\n",
       "      <td>0.000000</td>\n",
       "    </tr>\n",
       "    <tr>\n",
       "      <th>2615</th>\n",
       "      <td>794</td>\n",
       "      <td>680</td>\n",
       "      <td>33</td>\n",
       "      <td>85</td>\n",
       "      <td>0</td>\n",
       "      <td>775</td>\n",
       "      <td>0</td>\n",
       "      <td>0</td>\n",
       "      <td>0</td>\n",
       "      <td>b'Sean Porter'</td>\n",
       "      <td>...</td>\n",
       "      <td>0.096515</td>\n",
       "      <td>0.197051</td>\n",
       "      <td>0.286863</td>\n",
       "      <td>0.331099</td>\n",
       "      <td>0.666220</td>\n",
       "      <td>0.154155</td>\n",
       "      <td>0.154155</td>\n",
       "      <td>0.399464</td>\n",
       "      <td>0.001340</td>\n",
       "      <td>0.000000</td>\n",
       "    </tr>\n",
       "    <tr>\n",
       "      <th>3148</th>\n",
       "      <td>8014</td>\n",
       "      <td>3853</td>\n",
       "      <td>331</td>\n",
       "      <td>1635</td>\n",
       "      <td>0</td>\n",
       "      <td>30153</td>\n",
       "      <td>0</td>\n",
       "      <td>0</td>\n",
       "      <td>0</td>\n",
       "      <td>b'Chris Prakoso'</td>\n",
       "      <td>...</td>\n",
       "      <td>0.040028</td>\n",
       "      <td>0.098123</td>\n",
       "      <td>0.232377</td>\n",
       "      <td>0.161530</td>\n",
       "      <td>0.546936</td>\n",
       "      <td>0.077931</td>\n",
       "      <td>0.122210</td>\n",
       "      <td>0.307474</td>\n",
       "      <td>0.001063</td>\n",
       "      <td>0.000000</td>\n",
       "    </tr>\n",
       "  </tbody>\n",
       "</table>\n",
       "<p>5 rows × 60 columns</p>\n",
       "</div>"
      ],
      "text/plain": [
       "      followers_count  friends_count  listedcount  favourites_count  verified  \\\n",
       "id                                                                              \n",
       "614              1717           2201           52              4634         0   \n",
       "1038             1426           1014           78              4272         0   \n",
       "1437              307            204            8               359         0   \n",
       "2615              794            680           33                85         0   \n",
       "3148             8014           3853          331              1635         0   \n",
       "\n",
       "      statuses_count  default_profile  default_profile_image  \\\n",
       "id                                                             \n",
       "614            14159                0                      0   \n",
       "1038           33028                0                      0   \n",
       "1437            3140                0                      0   \n",
       "2615             775                0                      0   \n",
       "3148           30153                0                      0   \n",
       "\n",
       "      has_extended_profile                   name          ...            \\\n",
       "id                                                         ...             \n",
       "614                      0  b'Christian Harrison'          ...             \n",
       "1038                     0      b'Martijn van Es'          ...             \n",
       "1437                     0          b'Ryan Kneer'          ...             \n",
       "2615                     0         b'Sean Porter'          ...             \n",
       "3148                     0       b'Chris Prakoso'          ...             \n",
       "\n",
       "      avg_disgust  avg_fear   avg_joy  avg_negative  avg_positive  \\\n",
       "id                                                                  \n",
       "614      0.129654  0.267620  0.331117      0.431848      0.788231   \n",
       "1038     0.091451  0.163022  0.168986      0.276342      0.405567   \n",
       "1437     0.176471  0.217779  0.354263      0.420026      0.638136   \n",
       "2615     0.096515  0.197051  0.286863      0.331099      0.666220   \n",
       "3148     0.040028  0.098123  0.232377      0.161530      0.546936   \n",
       "\n",
       "      avg_sadness  avg_surprise  avg_trust  avg_negative_emoticon  \\\n",
       "id                                                                  \n",
       "614      0.217088      0.209774   0.534907               0.000000   \n",
       "1038     0.129225      0.121272   0.246521               0.000000   \n",
       "1437     0.194646      0.203900   0.379379               0.000000   \n",
       "2615     0.154155      0.154155   0.399464               0.001340   \n",
       "3148     0.077931      0.122210   0.307474               0.001063   \n",
       "\n",
       "      avg_positive_emoticon  \n",
       "id                           \n",
       "614                0.000332  \n",
       "1038               0.005964  \n",
       "1437               0.000000  \n",
       "2615               0.000000  \n",
       "3148               0.000000  \n",
       "\n",
       "[5 rows x 60 columns]"
      ]
     },
     "execution_count": 2,
     "metadata": {},
     "output_type": "execute_result"
    }
   ],
   "source": [
    "#importing data\n",
    "all_data = pd.read_csv('Processed_final.csv', index_col='id', sep=',')\n",
    "all_data.head()"
   ]
  },
  {
   "cell_type": "code",
   "execution_count": 3,
   "metadata": {},
   "outputs": [
    {
     "data": {
      "text/plain": [
       "<matplotlib.axes._subplots.AxesSubplot at 0x7f473624c978>"
      ]
     },
     "execution_count": 3,
     "metadata": {},
     "output_type": "execute_result"
    },
    {
     "data": {
      "image/png": "[encoded data removed]",
      "text/plain": [
       "<Figure size 432x288 with 1 Axes>"
      ]
     },
     "metadata": {},
     "output_type": "display_data"
    }
   ],
   "source": [
    "plt.title('Number of bot vs Number of people', y=1, size=20)\n",
    "sns.countplot('bot', data=all_data)"
   ]
  },
  {
   "cell_type": "markdown",
   "metadata": {},
   "source": [
    "I have creadted differenet model using various algortihm and I got best accuracy with Adaboost classifier with Random Forest as base algorithm. Hence below I will try my model first on balance dataset and further will test same model on different imbalance dataset. We are running multiple iteration of algorithm to make sure results are consistent. We are have separated out 20% dataset as testing dataset and calculating accuracy on that only."
   ]
  },
  {
   "cell_type": "code",
   "execution_count": 4,
   "metadata": {},
   "outputs": [
    {
     "name": "stdout",
     "output_type": "stream",
     "text": [
      "--------------------------------------------------\n",
      "0 th iteration\n",
      "accuracy_score =  0.9197901049475262\n",
      "cross_val_score =  0.9111917212486889\n",
      "f1_score =  0.918723889099886\n",
      "confusion_matrix =  [[2489  205]\n",
      " [ 223 2419]]\n",
      "             precision    recall  f1-score   support\n",
      "\n",
      "          0       0.92      0.92      0.92      2694\n",
      "          1       0.92      0.92      0.92      2642\n",
      "\n",
      "avg / total       0.92      0.92      0.92      5336\n",
      "\n",
      "auc =  0.9197496103995365\n",
      "--------------------------------------------------\n",
      "--------------------------------------------------\n",
      "1 th iteration\n",
      "accuracy_score =  0.9184782608695652\n",
      "cross_val_score =  0.9129290530000269\n",
      "f1_score =  0.9174416397798443\n",
      "confusion_matrix =  [[2484  210]\n",
      " [ 225 2417]]\n",
      "             precision    recall  f1-score   support\n",
      "\n",
      "          0       0.92      0.92      0.92      2694\n",
      "          1       0.92      0.91      0.92      2642\n",
      "\n",
      "avg / total       0.92      0.92      0.92      5336\n",
      "\n",
      "auc =  0.918443121142281\n",
      "--------------------------------------------------\n",
      "--------------------------------------------------\n",
      "2 th iteration\n",
      "accuracy_score =  0.9199775112443778\n",
      "cross_val_score =  0.9111917211865128\n",
      "f1_score =  0.9188367230564533\n",
      "confusion_matrix =  [[2492  202]\n",
      " [ 225 2417]]\n",
      "             precision    recall  f1-score   support\n",
      "\n",
      "          0       0.92      0.93      0.92      2694\n",
      "          1       0.92      0.91      0.92      2642\n",
      "\n",
      "avg / total       0.92      0.92      0.92      5336\n",
      "\n",
      "auc =  0.9199279021370842\n",
      "--------------------------------------------------\n",
      "--------------------------------------------------\n",
      "3 th iteration\n",
      "accuracy_score =  0.9177286356821589\n",
      "cross_val_score =  0.9123185701023111\n",
      "f1_score =  0.9164922959863039\n",
      "confusion_matrix =  [[2488  206]\n",
      " [ 233 2409]]\n",
      "             precision    recall  f1-score   support\n",
      "\n",
      "          0       0.91      0.92      0.92      2694\n",
      "          1       0.92      0.91      0.92      2642\n",
      "\n",
      "avg / total       0.92      0.92      0.92      5336\n",
      "\n",
      "auc =  0.917671507097669\n",
      "--------------------------------------------------\n",
      "--------------------------------------------------\n",
      "4 th iteration\n",
      "accuracy_score =  0.9169790104947526\n",
      "cross_val_score =  0.9126474732012587\n",
      "f1_score =  0.9158594491927826\n",
      "confusion_matrix =  [[2482  212]\n",
      " [ 231 2411]]\n",
      "             precision    recall  f1-score   support\n",
      "\n",
      "          0       0.91      0.92      0.92      2694\n",
      "          1       0.92      0.91      0.92      2642\n",
      "\n",
      "avg / total       0.92      0.92      0.92      5336\n",
      "\n",
      "auc =  0.91693642248707\n",
      "--------------------------------------------------\n",
      "--------------------------------------------------\n",
      "5 th iteration\n",
      "accuracy_score =  0.9196026986506747\n",
      "cross_val_score =  0.9113327868996383\n",
      "f1_score =  0.9184565671925489\n",
      "confusion_matrix =  [[2491  203]\n",
      " [ 226 2416]]\n",
      "             precision    recall  f1-score   support\n",
      "\n",
      "          0       0.92      0.92      0.92      2694\n",
      "          1       0.92      0.91      0.92      2642\n",
      "\n",
      "avg / total       0.92      0.92      0.92      5336\n",
      "\n",
      "auc =  0.9195530539449821\n",
      "--------------------------------------------------\n",
      "--------------------------------------------------\n",
      "6 th iteration\n",
      "accuracy_score =  0.9188530734632684\n",
      "cross_val_score =  0.9129294721092451\n",
      "f1_score =  0.9177587844254511\n",
      "confusion_matrix =  [[2487  207]\n",
      " [ 226 2416]]\n",
      "             precision    recall  f1-score   support\n",
      "\n",
      "          0       0.92      0.92      0.92      2694\n",
      "          1       0.92      0.91      0.92      2642\n",
      "\n",
      "avg / total       0.92      0.92      0.92      5336\n",
      "\n",
      "auc =  0.9188106634475806\n",
      "--------------------------------------------------\n",
      "--------------------------------------------------\n",
      "7 th iteration\n",
      "accuracy_score =  0.9190404797601199\n",
      "cross_val_score =  0.9108631930723879\n",
      "f1_score =  0.9179642992783896\n",
      "confusion_matrix =  [[2487  207]\n",
      " [ 225 2417]]\n",
      "             precision    recall  f1-score   support\n",
      "\n",
      "          0       0.92      0.92      0.92      2694\n",
      "          1       0.92      0.91      0.92      2642\n",
      "\n",
      "avg / total       0.92      0.92      0.92      5336\n",
      "\n",
      "auc =  0.9189999140153322\n",
      "--------------------------------------------------\n",
      "--------------------------------------------------\n",
      "8 th iteration\n",
      "accuracy_score =  0.9197901049475262\n",
      "cross_val_score =  0.9124125769921996\n",
      "f1_score =  0.9185692541856925\n",
      "confusion_matrix =  [[2494  200]\n",
      " [ 228 2414]]\n",
      "             precision    recall  f1-score   support\n",
      "\n",
      "          0       0.92      0.93      0.92      2694\n",
      "          1       0.92      0.91      0.92      2642\n",
      "\n",
      "avg / total       0.92      0.92      0.92      5336\n",
      "\n",
      "auc =  0.91973134568253\n",
      "--------------------------------------------------\n",
      "--------------------------------------------------\n",
      "9 th iteration\n",
      "accuracy_score =  0.9192278860569715\n",
      "cross_val_score =  0.9114265732711763\n",
      "f1_score =  0.9180452557520442\n",
      "confusion_matrix =  [[2491  203]\n",
      " [ 228 2414]]\n",
      "             precision    recall  f1-score   support\n",
      "\n",
      "          0       0.92      0.92      0.92      2694\n",
      "          1       0.92      0.91      0.92      2642\n",
      "\n",
      "avg / total       0.92      0.92      0.92      5336\n",
      "\n",
      "auc =  0.9191745528094787\n",
      "--------------------------------------------------\n"
     ]
    }
   ],
   "source": [
    "from sklearn.ensemble import AdaBoostClassifier\n",
    "\n",
    "\n",
    "dfList_accuracy_score_feature=[]\n",
    "dfList_cross_val_score_feature=[]\n",
    "dfList_f1_score_feature = []\n",
    "dfList_auc_feature = []\n",
    "\n",
    "#Now we build different model based on top 26 features(I am not getting good result on this 26 featues)\n",
    "features = ['tweets_per_day','avg_In_reply','avg_retweet_count','avg_fav_count','avg_anger','avg_negative_emoticon','avg_positive_emoticon',\\\n",
    "            'avg_anticipation','avg_disgust','avg_fear','avg_joy','avg_negative','followers_to_friends','total_usrmention','has_extended_profile',\\\n",
    "            'avg_positive', 'avg_trust','avg_sadness','avg_surprise', 'avg_total_usrmention', 'nameratio','friends_count', 'followers_count','favourites_count','acc_age']\n",
    "random_forest = RandomForestClassifier()\n",
    "\n",
    "parameters = {'n_estimators': [10,20,25,50], \n",
    "              'max_features': [10,12,14,16,18,20,22], \n",
    "              'criterion': ['entropy', 'gini'],\n",
    "              'max_depth': [6, 8, 10,12], \n",
    "              'min_samples_split': [20, 30, 50],\n",
    "              'min_samples_leaf': [3,5,8]\n",
    "             }\n",
    "\n",
    "acc_scorer = make_scorer(accuracy_score)\n",
    "\n",
    "df_train, df_test = train_test_split(all_data, test_size=0.2)\n",
    "df_train = df_train.dropna(subset = ['avg_anger'])\n",
    "df_test = df_test.dropna(subset = ['avg_anger'])\n",
    "X_train1 = df_train[features]\n",
    "Y_train1 = df_train['bot']\n",
    "X_test1 = df_test[features]\n",
    "Y_test1 = df_test['bot']   \n",
    "\n",
    "#grid search\n",
    "grid_obj = GridSearchCV(random_forest, parameters, scoring=acc_scorer)\n",
    "grid_obj = grid_obj.fit(X_train1, Y_train1)\n",
    "\n",
    "# Set the clf to the best combination of parameters\n",
    "random_forest = grid_obj.best_estimator_\n",
    "\n",
    "random_forest.fit(X_train1, Y_train1)\n",
    "\n",
    "\n",
    "for i in range(10):\n",
    "    print(50*'-')\n",
    "    print(i,'th iteration')   \n",
    "    ada_boost = AdaBoostClassifier(base_estimator=random_forest, n_estimators=50)\n",
    "    ada_boost.fit(X_train1, Y_train1)\n",
    "    predictions = ada_boost.predict(X_test1)\n",
    "    calc_acc = accuracy_score(Y_test1, predictions)    \n",
    "    dfList_accuracy_score_feature.append(calc_acc)\n",
    "    print(\"accuracy_score = \", calc_acc)\n",
    "    calc_cross_val_score = np.array(cross_val_score(random_forest, X_train1, Y_train1, cv=10) ).mean()\n",
    "    dfList_cross_val_score_feature.append(calc_cross_val_score)\n",
    "    print (\"cross_val_score = \",calc_cross_val_score)\n",
    "    calc_f1_score = f1_score(Y_test1,predictions)\n",
    "    dfList_f1_score_feature.append(calc_f1_score)\n",
    "    print (\"f1_score = \",calc_f1_score)\n",
    "    print(\"confusion_matrix = \",confusion_matrix(Y_test1,predictions))\n",
    "    print (classification_report(Y_test1, predictions))\n",
    "    fpr, tpr, thresholds = roc_curve(Y_test1, predictions)\n",
    "    calc_auc = auc(fpr, tpr)\n",
    "    dfList_auc_feature.append(calc_auc)\n",
    "    print(\"auc = \", calc_auc)\n",
    "    print(50*'-')\n",
    "\n"
   ]
  },
  {
   "cell_type": "markdown",
   "metadata": {},
   "source": [
    "Now, We will create different imbalance dataset from test data and test it on above model that we haave built.\n",
    "First imbalance dataset has 10 Bot and 100 Non bot"
   ]
  },
  {
   "cell_type": "code",
   "execution_count": 6,
   "metadata": {},
   "outputs": [
    {
     "data": {
      "text/plain": [
       "<matplotlib.axes._subplots.AxesSubplot at 0x7f47324a3f98>"
      ]
     },
     "execution_count": 6,
     "metadata": {},
     "output_type": "execute_result"
    },
    {
     "data": {
      "image/png": "[encoded data removed]",
      "text/plain": [
       "<Figure size 432x288 with 1 Axes>"
      ]
     },
     "metadata": {},
     "output_type": "display_data"
    }
   ],
   "source": [
    "Bot_10 = df_test[df_test['bot']==1].sample(frac=0.1)\n",
    "Non_Bot_100 = df_test[df_test['bot']==0]\n",
    "dfList=[]\n",
    "dfList.append(Bot_10)\n",
    "dfList.append(Non_Bot_100)\n",
    "Bot_10_and_Non_Bot_100=pd.concat(dfList, axis=0)\n",
    "plt.title('Number of bot vs Number of people', y=1, size=20)\n",
    "sns.countplot('bot', data=Bot_10_and_Non_Bot_100)"
   ]
  },
  {
   "cell_type": "code",
   "execution_count": 7,
   "metadata": {},
   "outputs": [
    {
     "name": "stdout",
     "output_type": "stream",
     "text": [
      "accuracy_score =  0.9242731575388776\n",
      "f1_score =  0.684507042253521\n",
      "confusion_matrix =  [[2491  203]\n",
      " [  21  243]]\n",
      "             precision    recall  f1-score   support\n",
      "\n",
      "          0       0.99      0.92      0.96      2694\n",
      "          1       0.54      0.92      0.68       264\n",
      "\n",
      "avg / total       0.95      0.92      0.93      2958\n",
      "\n",
      "auc =  0.9225509549841399\n"
     ]
    }
   ],
   "source": [
    "X_test1 = Bot_10_and_Non_Bot_100[features]\n",
    "Y_test1 = Bot_10_and_Non_Bot_100['bot']\n",
    "predictions = ada_boost.predict(X_test1)\n",
    "print(\"accuracy_score = \",accuracy_score(Y_test1, predictions))\n",
    "print(\"f1_score = \",f1_score(Y_test1,predictions))\n",
    "print(\"confusion_matrix = \",confusion_matrix(Y_test1,predictions))\n",
    "print(classification_report(Y_test1, predictions))\n",
    "fpr, tpr, thresholds = roc_curve(Y_test1, predictions)\n",
    "print(\"auc = \", auc(fpr, tpr))"
   ]
  },
  {
   "cell_type": "code",
   "execution_count": 8,
   "metadata": {},
   "outputs": [
    {
     "data": {
      "text/plain": [
       "<matplotlib.axes._subplots.AxesSubplot at 0x7f4732591518>"
      ]
     },
     "execution_count": 8,
     "metadata": {},
     "output_type": "execute_result"
    },
    {
     "data": {
      "image/png": "[encoded data removed]",
      "text/plain": [
       "<Figure size 432x288 with 1 Axes>"
      ]
     },
     "metadata": {},
     "output_type": "display_data"
    }
   ],
   "source": [
    "#Bot 20 and Non Bot 100\n",
    "Bot_20 = df_test[df_test['bot']==1].sample(frac=0.2)\n",
    "Non_Bot_100 = df_test[df_test['bot']==0]\n",
    "dfList=[]\n",
    "dfList.append(Bot_20)\n",
    "dfList.append(Non_Bot_100)\n",
    "Bot_20_and_Non_Bot_100=pd.concat(dfList, axis=0)\n",
    "plt.title('Number of bot vs Number of people', y=1, size=20)\n",
    "sns.countplot('bot', data=Bot_20_and_Non_Bot_100)"
   ]
  },
  {
   "cell_type": "code",
   "execution_count": 9,
   "metadata": {},
   "outputs": [
    {
     "name": "stdout",
     "output_type": "stream",
     "text": [
      "accuracy_score =  0.9224084419615146\n",
      "f1_score =  0.7937293729372936\n",
      "confusion_matrix =  [[2491  203]\n",
      " [  47  481]]\n",
      "             precision    recall  f1-score   support\n",
      "\n",
      "          0       0.98      0.92      0.95      2694\n",
      "          1       0.70      0.91      0.79       528\n",
      "\n",
      "avg / total       0.94      0.92      0.93      3222\n",
      "\n",
      "auc =  0.9178161064992914\n"
     ]
    }
   ],
   "source": [
    "X_test1 = Bot_20_and_Non_Bot_100[features]\n",
    "Y_test1 = Bot_20_and_Non_Bot_100['bot']\n",
    "predictions = ada_boost.predict(X_test1)\n",
    "print(\"accuracy_score = \",accuracy_score(Y_test1, predictions))\n",
    "print(\"f1_score = \",f1_score(Y_test1,predictions))\n",
    "print(\"confusion_matrix = \",confusion_matrix(Y_test1,predictions))\n",
    "print(classification_report(Y_test1, predictions))\n",
    "fpr, tpr, thresholds = roc_curve(Y_test1, predictions)\n",
    "print(\"auc = \", auc(fpr, tpr))"
   ]
  },
  {
   "cell_type": "code",
   "execution_count": 11,
   "metadata": {},
   "outputs": [
    {
     "data": {
      "text/plain": [
       "<matplotlib.axes._subplots.AxesSubplot at 0x7f473269df28>"
      ]
     },
     "execution_count": 11,
     "metadata": {},
     "output_type": "execute_result"
    },
    {
     "data": {
      "image/png": "[encoded data removed]",
      "text/plain": [
       "<Figure size 432x288 with 1 Axes>"
      ]
     },
     "metadata": {},
     "output_type": "display_data"
    }
   ],
   "source": [
    "#Bot 30 and Non Bot 100\n",
    "Bot_30 = df_test[df_test['bot']==1].sample(frac=0.3)\n",
    "Non_Bot_100 = df_test[df_test['bot']==0]\n",
    "dfList=[]\n",
    "dfList.append(Bot_30)\n",
    "dfList.append(Non_Bot_100)\n",
    "Bot_30_and_Non_Bot_100=pd.concat(dfList, axis=0)\n",
    "plt.title('Number of bot vs Number of people', y=1, size=20)\n",
    "sns.countplot('bot', data=Bot_30_and_Non_Bot_100)"
   ]
  },
  {
   "cell_type": "code",
   "execution_count": 12,
   "metadata": {},
   "outputs": [
    {
     "name": "stdout",
     "output_type": "stream",
     "text": [
      "accuracy_score =  0.9202753082879266\n",
      "f1_score =  0.837806301050175\n",
      "confusion_matrix =  [[2491  203]\n",
      " [  75  718]]\n",
      "             precision    recall  f1-score   support\n",
      "\n",
      "          0       0.97      0.92      0.95      2694\n",
      "          1       0.78      0.91      0.84       793\n",
      "\n",
      "avg / total       0.93      0.92      0.92      3487\n",
      "\n",
      "auc =  0.9150349054598935\n"
     ]
    }
   ],
   "source": [
    "X_test1 = Bot_30_and_Non_Bot_100[features]\n",
    "Y_test1 = Bot_30_and_Non_Bot_100['bot']\n",
    "predictions = ada_boost.predict(X_test1)\n",
    "print(\"accuracy_score = \",accuracy_score(Y_test1, predictions))\n",
    "print(\"f1_score = \",f1_score(Y_test1,predictions))\n",
    "print(\"confusion_matrix = \",confusion_matrix(Y_test1,predictions))\n",
    "print(classification_report(Y_test1, predictions))\n",
    "fpr, tpr, thresholds = roc_curve(Y_test1, predictions)\n",
    "print(\"auc = \", auc(fpr, tpr))"
   ]
  },
  {
   "cell_type": "code",
   "execution_count": 13,
   "metadata": {},
   "outputs": [
    {
     "data": {
      "text/plain": [
       "<matplotlib.axes._subplots.AxesSubplot at 0x7f47359c62b0>"
      ]
     },
     "execution_count": 13,
     "metadata": {},
     "output_type": "execute_result"
    },
    {
     "data": {
      "image/png": "[encoded data removed]",
      "text/plain": [
       "<Figure size 432x288 with 1 Axes>"
      ]
     },
     "metadata": {},
     "output_type": "display_data"
    }
   ],
   "source": [
    "#Bot 40 and Non Bot 100\n",
    "Bot_40 = df_test[df_test['bot']==1].sample(frac=0.4)\n",
    "Non_Bot_100 = df_test[df_test['bot']==0]\n",
    "dfList=[]\n",
    "dfList.append(Bot_40)\n",
    "dfList.append(Non_Bot_100)\n",
    "Bot_40_and_Non_Bot_100=pd.concat(dfList, axis=0)\n",
    "plt.title('Number of bot vs Number of people', y=1, size=20)\n",
    "sns.countplot('bot', data=Bot_40_and_Non_Bot_100)"
   ]
  },
  {
   "cell_type": "code",
   "execution_count": 14,
   "metadata": {},
   "outputs": [
    {
     "name": "stdout",
     "output_type": "stream",
     "text": [
      "accuracy_score =  0.9210877099440149\n",
      "f1_score =  0.8669064748201438\n",
      "confusion_matrix =  [[2491  203]\n",
      " [  93  964]]\n",
      "             precision    recall  f1-score   support\n",
      "\n",
      "          0       0.96      0.92      0.94      2694\n",
      "          1       0.83      0.91      0.87      1057\n",
      "\n",
      "avg / total       0.93      0.92      0.92      3751\n",
      "\n",
      "auc =  0.9183312508472171\n"
     ]
    }
   ],
   "source": [
    "X_test1 = Bot_40_and_Non_Bot_100[features]\n",
    "Y_test1 = Bot_40_and_Non_Bot_100['bot']\n",
    "predictions = ada_boost.predict(X_test1)\n",
    "print(\"accuracy_score = \",accuracy_score(Y_test1, predictions))\n",
    "print(\"f1_score = \",f1_score(Y_test1,predictions))\n",
    "print(\"confusion_matrix = \",confusion_matrix(Y_test1,predictions))\n",
    "print(classification_report(Y_test1, predictions))\n",
    "fpr, tpr, thresholds = roc_curve(Y_test1, predictions)\n",
    "print(\"auc = \", auc(fpr, tpr))"
   ]
  },
  {
   "cell_type": "code",
   "execution_count": 15,
   "metadata": {},
   "outputs": [
    {
     "data": {
      "text/plain": [
       "<matplotlib.axes._subplots.AxesSubplot at 0x7f4735911630>"
      ]
     },
     "execution_count": 15,
     "metadata": {},
     "output_type": "execute_result"
    },
    {
     "data": {
      "image/png": "[encoded data removed]",
      "text/plain": [
       "<Figure size 432x288 with 1 Axes>"
      ]
     },
     "metadata": {},
     "output_type": "display_data"
    }
   ],
   "source": [
    "#Bot 50 and Non Bot 100\n",
    "Bot_50 = df_test[df_test['bot']==1].sample(frac=0.5)\n",
    "Non_Bot_100 = df_test[df_test['bot']==0]\n",
    "dfList=[]\n",
    "dfList.append(Bot_50)\n",
    "dfList.append(Non_Bot_100)\n",
    "Bot_50_and_Non_Bot_100=pd.concat(dfList, axis=0)\n",
    "plt.title('Number of bot vs Number of people', y=1, size=20)\n",
    "sns.countplot('bot', data=Bot_50_and_Non_Bot_100)"
   ]
  },
  {
   "cell_type": "code",
   "execution_count": 16,
   "metadata": {},
   "outputs": [
    {
     "name": "stdout",
     "output_type": "stream",
     "text": [
      "accuracy_score =  0.9212951432129515\n",
      "f1_score =  0.8843338213762811\n",
      "confusion_matrix =  [[2491  203]\n",
      " [ 113 1208]]\n",
      "             precision    recall  f1-score   support\n",
      "\n",
      "          0       0.96      0.92      0.94      2694\n",
      "          1       0.86      0.91      0.88      1321\n",
      "\n",
      "avg / total       0.92      0.92      0.92      4015\n",
      "\n",
      "auc =  0.9195530539449821\n"
     ]
    }
   ],
   "source": [
    "X_test1 = Bot_50_and_Non_Bot_100[features]\n",
    "Y_test1 = Bot_50_and_Non_Bot_100['bot']\n",
    "predictions = ada_boost.predict(X_test1)\n",
    "print(\"accuracy_score = \",accuracy_score(Y_test1, predictions))\n",
    "print(\"f1_score = \",f1_score(Y_test1,predictions))\n",
    "print(\"confusion_matrix = \",confusion_matrix(Y_test1,predictions))\n",
    "print(classification_report(Y_test1, predictions))\n",
    "fpr, tpr, thresholds = roc_curve(Y_test1, predictions)\n",
    "print(\"auc = \", auc(fpr, tpr))"
   ]
  },
  {
   "cell_type": "code",
   "execution_count": 17,
   "metadata": {},
   "outputs": [
    {
     "data": {
      "text/plain": [
       "<matplotlib.axes._subplots.AxesSubplot at 0x7f47359185c0>"
      ]
     },
     "execution_count": 17,
     "metadata": {},
     "output_type": "execute_result"
    },
    {
     "data": {
      "image/png": "[encoded data removed]",
      "text/plain": [
       "<Figure size 432x288 with 1 Axes>"
      ]
     },
     "metadata": {},
     "output_type": "display_data"
    }
   ],
   "source": [
    "#Bot 100 and Non Bot 10\n",
    "Bot_100 = df_test[df_test['bot']==1]\n",
    "Non_Bot_10 = df_test[df_test['bot']==0].sample(frac=0.1)\n",
    "dfList=[]\n",
    "dfList.append(Bot_100)\n",
    "dfList.append(Non_Bot_10)\n",
    "Bot_100_and_Non_Bot_10=pd.concat(dfList, axis=0)\n",
    "plt.title('Number of bot vs Number of people', y=1, size=20)\n",
    "sns.countplot('bot', data=Bot_100_and_Non_Bot_10)"
   ]
  },
  {
   "cell_type": "code",
   "execution_count": 18,
   "metadata": {},
   "outputs": [
    {
     "name": "stdout",
     "output_type": "stream",
     "text": [
      "accuracy_score =  0.9134318103744418\n",
      "f1_score =  0.9503937007874016\n",
      "confusion_matrix =  [[ 245   24]\n",
      " [ 228 2414]]\n",
      "             precision    recall  f1-score   support\n",
      "\n",
      "          0       0.52      0.91      0.66       269\n",
      "          1       0.99      0.91      0.95      2642\n",
      "\n",
      "avg / total       0.95      0.91      0.92      2911\n",
      "\n",
      "auc =  0.9122412051251023\n"
     ]
    }
   ],
   "source": [
    "X_test1 = Bot_100_and_Non_Bot_10[features]\n",
    "Y_test1 = Bot_100_and_Non_Bot_10['bot']\n",
    "predictions = ada_boost.predict(X_test1)\n",
    "print(\"accuracy_score = \",accuracy_score(Y_test1, predictions))\n",
    "print(\"f1_score = \",f1_score(Y_test1,predictions))\n",
    "print(\"confusion_matrix = \",confusion_matrix(Y_test1,predictions))\n",
    "print(classification_report(Y_test1, predictions))\n",
    "fpr, tpr, thresholds = roc_curve(Y_test1, predictions)\n",
    "print(\"auc = \", auc(fpr, tpr))"
   ]
  },
  {
   "cell_type": "code",
   "execution_count": 19,
   "metadata": {},
   "outputs": [
    {
     "data": {
      "text/plain": [
       "<matplotlib.axes._subplots.AxesSubplot at 0x7f4735889438>"
      ]
     },
     "execution_count": 19,
     "metadata": {},
     "output_type": "execute_result"
    },
    {
     "data": {
      "image/png": "[encoded data removed]",
      "text/plain": [
       "<Figure size 432x288 with 1 Axes>"
      ]
     },
     "metadata": {},
     "output_type": "display_data"
    }
   ],
   "source": [
    "#Bot 100 and Non Bot 20\n",
    "Bot_100 = df_test[df_test['bot']==1]\n",
    "Non_Bot_20 = df_test[df_test['bot']==0].sample(frac=0.2)\n",
    "dfList=[]\n",
    "dfList.append(Bot_100)\n",
    "dfList.append(Non_Bot_20)\n",
    "Bot_100_and_Non_Bot_20=pd.concat(dfList, axis=0)\n",
    "plt.title('Number of bot vs Number of people', y=1, size=20)\n",
    "sns.countplot('bot', data=Bot_100_and_Non_Bot_20)"
   ]
  },
  {
   "cell_type": "code",
   "execution_count": 20,
   "metadata": {},
   "outputs": [
    {
     "name": "stdout",
     "output_type": "stream",
     "text": [
      "accuracy_score =  0.9176359635334801\n",
      "f1_score =  0.9485265225933203\n",
      "confusion_matrix =  [[ 505   34]\n",
      " [ 228 2414]]\n",
      "             precision    recall  f1-score   support\n",
      "\n",
      "          0       0.69      0.94      0.79       539\n",
      "          1       0.99      0.91      0.95      2642\n",
      "\n",
      "avg / total       0.94      0.92      0.92      3181\n",
      "\n",
      "auc =  0.9253109818698658\n"
     ]
    }
   ],
   "source": [
    "X_test1 = Bot_100_and_Non_Bot_20[features]\n",
    "Y_test1 = Bot_100_and_Non_Bot_20['bot']\n",
    "predictions = ada_boost.predict(X_test1)\n",
    "print(\"accuracy_score = \",accuracy_score(Y_test1, predictions))\n",
    "print(\"f1_score = \",f1_score(Y_test1,predictions))\n",
    "print(\"confusion_matrix = \",confusion_matrix(Y_test1,predictions))\n",
    "print(classification_report(Y_test1, predictions))\n",
    "fpr, tpr, thresholds = roc_curve(Y_test1, predictions)\n",
    "print(\"auc = \", auc(fpr, tpr))"
   ]
  },
  {
   "cell_type": "code",
   "execution_count": 21,
   "metadata": {},
   "outputs": [
    {
     "data": {
      "text/plain": [
       "<matplotlib.axes._subplots.AxesSubplot at 0x7f473584b710>"
      ]
     },
     "execution_count": 21,
     "metadata": {},
     "output_type": "execute_result"
    },
    {
     "data": {
      "image/png": "[encoded data removed]",
      "text/plain": [
       "<Figure size 432x288 with 1 Axes>"
      ]
     },
     "metadata": {},
     "output_type": "display_data"
    }
   ],
   "source": [
    "#Bot 100 and Non Bot 30\n",
    "Bot_100 = df_test[df_test['bot']==1]\n",
    "Non_Bot_30 = df_test[df_test['bot']==0].sample(frac=0.3)\n",
    "dfList=[]\n",
    "dfList.append(Bot_100)\n",
    "dfList.append(Non_Bot_30)\n",
    "Bot_100_and_Non_Bot_30=pd.concat(dfList, axis=0)\n",
    "plt.title('Number of bot vs Number of people', y=1, size=20)\n",
    "sns.countplot('bot', data=Bot_100_and_Non_Bot_30)"
   ]
  },
  {
   "cell_type": "code",
   "execution_count": 22,
   "metadata": {},
   "outputs": [
    {
     "name": "stdout",
     "output_type": "stream",
     "text": [
      "accuracy_score =  0.9188405797101449\n",
      "f1_score =  0.9451840250587314\n",
      "confusion_matrix =  [[ 756   52]\n",
      " [ 228 2414]]\n",
      "             precision    recall  f1-score   support\n",
      "\n",
      "          0       0.77      0.94      0.84       808\n",
      "          1       0.98      0.91      0.95      2642\n",
      "\n",
      "avg / total       0.93      0.92      0.92      3450\n",
      "\n",
      "auc =  0.9246726527308293\n"
     ]
    }
   ],
   "source": [
    "X_test1 = Bot_100_and_Non_Bot_30[features]\n",
    "Y_test1 = Bot_100_and_Non_Bot_30['bot']\n",
    "predictions = ada_boost.predict(X_test1)\n",
    "print(\"accuracy_score = \",accuracy_score(Y_test1, predictions))\n",
    "print(\"f1_score = \",f1_score(Y_test1,predictions))\n",
    "print(\"confusion_matrix = \",confusion_matrix(Y_test1,predictions))\n",
    "print(classification_report(Y_test1, predictions))\n",
    "fpr, tpr, thresholds = roc_curve(Y_test1, predictions)\n",
    "print(\"auc = \", auc(fpr, tpr))"
   ]
  },
  {
   "cell_type": "code",
   "execution_count": 23,
   "metadata": {},
   "outputs": [
    {
     "data": {
      "text/plain": [
       "<matplotlib.axes._subplots.AxesSubplot at 0x7f4735813748>"
      ]
     },
     "execution_count": 23,
     "metadata": {},
     "output_type": "execute_result"
    },
    {
     "data": {
      "image/png": "[encoded data removed]",
      "text/plain": [
       "<Figure size 432x288 with 1 Axes>"
      ]
     },
     "metadata": {},
     "output_type": "display_data"
    }
   ],
   "source": [
    "#Bot 100 and Non Bot 40\n",
    "Bot_100 = df_test[df_test['bot']==1]\n",
    "Non_Bot_40 = df_test[df_test['bot']==0].sample(frac=0.4)\n",
    "dfList=[]\n",
    "dfList.append(Bot_100)\n",
    "dfList.append(Non_Bot_40)\n",
    "Bot_100_and_Non_Bot_40=pd.concat(dfList, axis=0)\n",
    "plt.title('Number of bot vs Number of people', y=1, size=20)\n",
    "sns.countplot('bot', data=Bot_100_and_Non_Bot_40)"
   ]
  },
  {
   "cell_type": "code",
   "execution_count": 24,
   "metadata": {},
   "outputs": [
    {
     "name": "stdout",
     "output_type": "stream",
     "text": [
      "accuracy_score =  0.9172043010752688\n",
      "f1_score =  0.9400311526479751\n",
      "confusion_matrix =  [[ 998   80]\n",
      " [ 228 2414]]\n",
      "             precision    recall  f1-score   support\n",
      "\n",
      "          0       0.81      0.93      0.87      1078\n",
      "          1       0.97      0.91      0.94      2642\n",
      "\n",
      "avg / total       0.92      0.92      0.92      3720\n",
      "\n",
      "auc =  0.919745119161146\n"
     ]
    }
   ],
   "source": [
    "X_test1 = Bot_100_and_Non_Bot_40[features]\n",
    "Y_test1 = Bot_100_and_Non_Bot_40['bot']\n",
    "predictions = ada_boost.predict(X_test1)\n",
    "print(\"accuracy_score = \",accuracy_score(Y_test1, predictions))\n",
    "print(\"f1_score = \",f1_score(Y_test1,predictions))\n",
    "print(\"confusion_matrix = \",confusion_matrix(Y_test1,predictions))\n",
    "print(classification_report(Y_test1, predictions))\n",
    "fpr, tpr, thresholds = roc_curve(Y_test1, predictions)\n",
    "print(\"auc = \", auc(fpr, tpr))"
   ]
  },
  {
   "cell_type": "code",
   "execution_count": 25,
   "metadata": {},
   "outputs": [
    {
     "data": {
      "text/plain": [
       "<matplotlib.axes._subplots.AxesSubplot at 0x7f47357db0f0>"
      ]
     },
     "execution_count": 25,
     "metadata": {},
     "output_type": "execute_result"
    },
    {
     "data": {
      "image/png": "[encoded data removed]",
      "text/plain": [
       "<Figure size 432x288 with 1 Axes>"
      ]
     },
     "metadata": {},
     "output_type": "display_data"
    }
   ],
   "source": [
    "#Bot 100 and Non Bot 50\n",
    "Bot_100 = df_test[df_test['bot']==1]\n",
    "Non_Bot_50 = df_test[df_test['bot']==0].sample(frac=0.5)\n",
    "dfList=[]\n",
    "dfList.append(Bot_100)\n",
    "dfList.append(Non_Bot_50)\n",
    "Bot_100_and_Non_Bot_50=pd.concat(dfList, axis=0)\n",
    "plt.title('Number of bot vs Number of people', y=1, size=20)\n",
    "sns.countplot('bot', data=Bot_100_and_Non_Bot_50)"
   ]
  },
  {
   "cell_type": "code",
   "execution_count": 26,
   "metadata": {},
   "outputs": [
    {
     "name": "stdout",
     "output_type": "stream",
     "text": [
      "accuracy_score =  0.9182752569566307\n",
      "f1_score =  0.9367481567714395\n",
      "confusion_matrix =  [[1249   98]\n",
      " [ 228 2414]]\n",
      "             precision    recall  f1-score   support\n",
      "\n",
      "          0       0.85      0.93      0.88      1347\n",
      "          1       0.96      0.91      0.94      2642\n",
      "\n",
      "avg / total       0.92      0.92      0.92      3989\n",
      "\n",
      "auc =  0.9204737361799316\n"
     ]
    }
   ],
   "source": [
    "X_test1 = Bot_100_and_Non_Bot_50[features]\n",
    "Y_test1 = Bot_100_and_Non_Bot_50['bot']\n",
    "predictions = ada_boost.predict(X_test1)\n",
    "print(\"accuracy_score = \",accuracy_score(Y_test1, predictions))\n",
    "print(\"f1_score = \",f1_score(Y_test1,predictions))\n",
    "print(\"confusion_matrix = \",confusion_matrix(Y_test1,predictions))\n",
    "print(classification_report(Y_test1, predictions))\n",
    "fpr, tpr, thresholds = roc_curve(Y_test1, predictions)\n",
    "print(\"auc = \", auc(fpr, tpr))"
   ]
  },
  {
   "cell_type": "code",
   "execution_count": 27,
   "metadata": {},
   "outputs": [],
   "source": [
    "#Now we build different model based on top 26 features(I am not getting good result on this 26 featues)\n",
    "features = ['avg_anger',\\\n",
    "            'avg_anticipation','avg_disgust','avg_fear','avg_joy','avg_negative',\\\n",
    "            'avg_positive', 'avg_trust','avg_sadness','avg_surprise']"
   ]
  },
  {
   "cell_type": "code",
   "execution_count": 32,
   "metadata": {},
   "outputs": [],
   "source": [
    "#Now we build different model based on top 26 features(I am not getting good result on this 26 featues)\n",
    "features = ['tweets_per_day','avg_In_reply','avg_retweet_count','avg_fav_count','avg_anger','avg_negative_emoticon','avg_positive_emoticon',\\\n",
    "            'avg_anticipation','avg_disgust','avg_fear','avg_joy','avg_negative','followers_to_friends','total_usrmention','has_extended_profile',\\\n",
    "            'avg_positive', 'avg_trust','avg_sadness','avg_surprise', 'avg_total_usrmention', 'nameratio','friends_count', 'followers_count','favourites_count','acc_age']"
   ]
  },
  {
   "cell_type": "code",
   "execution_count": 33,
   "metadata": {},
   "outputs": [],
   "source": [
    "df_train, df_test = train_test_split(all_data, test_size=0.2)\n",
    "df_train = df_train.dropna(subset = ['avg_anger'])\n",
    "df_test = df_test.dropna(subset = ['avg_anger'])\n",
    "X_train1 = df_train[features]\n",
    "Y_train1 = df_train['bot']\n",
    "X_test1 = df_test[features]\n",
    "Y_test1 = df_test['bot']  "
   ]
  },
  {
   "cell_type": "code",
   "execution_count": 34,
   "metadata": {},
   "outputs": [
    {
     "data": {
      "text/plain": [
       "DecisionTreeClassifier(class_weight=None, criterion='gini', max_depth=4,\n",
       "            max_features=18, max_leaf_nodes=None,\n",
       "            min_impurity_decrease=1e-07, min_impurity_split=None,\n",
       "            min_samples_leaf=5, min_samples_split=20,\n",
       "            min_weight_fraction_leaf=0.0, presort=False, random_state=None,\n",
       "            splitter='best')"
      ]
     },
     "execution_count": 34,
     "metadata": {},
     "output_type": "execute_result"
    }
   ],
   "source": [
    "# Decision Tree and we will chosse best one\n",
    "\n",
    "decision_tree = DecisionTreeClassifier()\n",
    "\n",
    "parameters = {'max_features': [10,12,14,16,18], \n",
    "              'criterion': ['entropy', 'gini'],\n",
    "              'max_depth': [3, 4], \n",
    "              'min_samples_split': [10, 20, 30],\n",
    "              'min_samples_leaf': [1,5,8],\n",
    "              'min_impurity_decrease': [0.00000001, 0.0000001]\n",
    "             }\n",
    "\n",
    "acc_scorer = make_scorer(accuracy_score)\n",
    "\n",
    "#grid search\n",
    "grid_obj = GridSearchCV(decision_tree, parameters, scoring=acc_scorer)\n",
    "grid_obj = grid_obj.fit(X_train1, Y_train1)\n",
    "\n",
    "# Set the decision_tree to the best combination of parameters\n",
    "decision_tree = grid_obj.best_estimator_\n",
    "\n",
    "decision_tree .fit(X_train1, Y_train1)"
   ]
  },
  {
   "cell_type": "code",
   "execution_count": 35,
   "metadata": {},
   "outputs": [
    {
     "name": "stdout",
     "output_type": "stream",
     "text": [
      "accuracy_score =  0.764750093949643\n",
      "cross_val_score =  0.7820916172223636\n",
      "f1_score =  0.7690888970859462\n",
      "confusion_matrix =  [[1985  686]\n",
      " [ 566 2085]]\n",
      "             precision    recall  f1-score   support\n",
      "\n",
      "          0       0.78      0.74      0.76      2671\n",
      "          1       0.75      0.79      0.77      2651\n",
      "\n",
      "avg / total       0.77      0.76      0.76      5322\n",
      "\n",
      "auc =  0.7648315075328129\n"
     ]
    }
   ],
   "source": [
    "# To view the decision Tree\n",
    "export_graphviz(decision_tree,out_file='NewNRCtree.dot',feature_names=X_train1.columns) \n",
    "predictions = decision_tree.predict(X_test1)\n",
    "print(\"accuracy_score = \",accuracy_score(Y_test1, predictions))\n",
    "print (\"cross_val_score = \",np.array(cross_val_score(decision_tree, X_train1, Y_train1, cv=10) ).mean())\n",
    "print (\"f1_score = \",f1_score(Y_test1,predictions))\n",
    "print(\"confusion_matrix = \",confusion_matrix(Y_test1,predictions))\n",
    "print (classification_report(Y_test1, predictions))\n",
    "fpr, tpr, thresholds = roc_curve(Y_test1, predictions)\n",
    "print(\"auc = \", auc(fpr, tpr))"
   ]
  },
  {
   "cell_type": "code",
   "execution_count": 37,
   "metadata": {},
   "outputs": [],
   "source": [
    "emtion_data = all_data[features1]"
   ]
  },
  {
   "cell_type": "code",
   "execution_count": 38,
   "metadata": {},
   "outputs": [],
   "source": [
    "emtion_data.to_csv('emtion_data.csv', index = True)"
   ]
  },
  {
   "cell_type": "code",
   "execution_count": 41,
   "metadata": {},
   "outputs": [],
   "source": [
    "avg_emotion_data = emtion_data.groupby('bot', as_index=False).mean()"
   ]
  },
  {
   "cell_type": "code",
   "execution_count": 43,
   "metadata": {},
   "outputs": [],
   "source": [
    "avg_emotion_data.to_csv('avg_emotion_data.csv', index = True)"
   ]
  },
  {
   "cell_type": "code",
   "execution_count": null,
   "metadata": {},
   "outputs": [],
   "source": []
  }
 ],
 "metadata": {
  "kernelspec": {
   "display_name": "Python 3",
   "language": "python",
   "name": "python3"
  },
  "language_info": {
   "codemirror_mode": {
    "name": "ipython",
    "version": 3
   },
   "file_extension": ".py",
   "mimetype": "text/x-python",
   "name": "python",
   "nbconvert_exporter": "python",
   "pygments_lexer": "ipython3",
   "version": "3.6.5"
  }
 },
 "nbformat": 4,
 "nbformat_minor": 2
}
